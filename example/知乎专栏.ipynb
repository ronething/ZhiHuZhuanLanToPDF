{
 "cells": [
  {
   "cell_type": "code",
   "execution_count": 1,
   "metadata": {},
   "outputs": [],
   "source": [
    "#coding=utf-8\n",
    "import time\n",
    "import re\n",
    "import os\n",
    "import requests\n",
    "import re\n",
    "from bs4 import BeautifulSoup"
   ]
  },
  {
   "cell_type": "code",
   "execution_count": 5,
   "metadata": {},
   "outputs": [],
   "source": [
    "def get_list():\n",
    "    url = 'https://www.zhihu.com/api/v4/columns/{0}/articles?\\\n",
    "    include=data%5B%2A%5D.admin_closed_comment%2Ccomment_count%2Csuggest_edit%2Cis_title_image_full_screen%2Ccan_comment%2Cupvoted_followees%2Ccan_open_tipjar%2Ccan_tip%2Cvoteup_count%2Cvoting%2Ctopics%2Creview_info%2Cauthor.is_following&limit=10&offset=0'.format(author)\n",
    "    print(url)\n",
    "    article_dict = {}\n",
    "    while True:\n",
    "        print('fetching', url)\n",
    "        try:\n",
    "            resp = requests.get(url, headers=headers)\n",
    "            j = resp.json()\n",
    "            data = j['data']\n",
    "        except:\n",
    "            print('get list failed')\n",
    "\n",
    "        for article in data:\n",
    "            aid = article['id']\n",
    "            akeys = article_dict.keys()\n",
    "            if aid not in akeys:\n",
    "                article_dict[aid] = article['title']\n",
    "\n",
    "        if j['paging']['is_end']:\n",
    "            break\n",
    "        url = j['paging']['next']\n",
    "        time.sleep(2)\n",
    "\n",
    "    with open('zhihu_ids.txt', 'w',encoding='utf-8') as f:\n",
    "        items = sorted(article_dict.items())\n",
    "        for item in items:\n",
    "            f.write('%s %s\\n' % item)"
   ]
  },
  {
   "cell_type": "code",
   "execution_count": 11,
   "metadata": {},
   "outputs": [],
   "source": [
    "def get_html(aid, title, index):\n",
    "    title = re.sub('[\\/:*?\"<>|]','-',title) #正则过滤非法文件字符\n",
    "    file_name = '%03d. %s.html' % (index, title)\n",
    "    if os.path.exists(file_name):\n",
    "        print(title, 'already exists.')\n",
    "        return\n",
    "    else:\n",
    "        print('saving', title)\n",
    "    url = 'https://zhuanlan.zhihu.com/p/' + aid\n",
    "    html = requests.get(url, headers=headers).text\n",
    "    soup = BeautifulSoup(html, 'lxml')\n",
    "    try:\n",
    "        content = soup.find(\"div\",{\"class\":\"Post-RichText\"}).prettify()\n",
    "    except:\n",
    "        print(\"saving\",title,\"error\")\n",
    "        return\n",
    "    content = content.replace('data-actual', '')\n",
    "    content = content.replace('h1>', 'h2>')\n",
    "    content = re.sub(r'<noscript>.*?</noscript>', '', content)\n",
    "    content = re.sub(r'src=\"data:image.*?\"', '', content)\n",
    "    content = '<!DOCTYPE html><html><head><meta charset=\"utf-8\"></head><body><h1>%s</h1>%s</body></html>' % (\n",
    "        title, content)\n",
    "    with open(file_name, 'w',encoding='utf-8') as f:\n",
    "        f.write(content)\n",
    "    time.sleep(2)\n",
    "\n",
    "def get_details():\n",
    "    with open('zhihu_ids.txt','r',encoding='utf-8') as f:\n",
    "        i = 1\n",
    "        for line in f:\n",
    "            lst = line.strip().split(' ')\n",
    "            aid = lst[0]\n",
    "            title = '_'.join(lst[1:])\n",
    "            get_html(aid, title, i)\n",
    "            i += 1\n",
    "        print(\"done\")"
   ]
  },
  {
   "cell_type": "code",
   "execution_count": 2,
   "metadata": {},
   "outputs": [],
   "source": [
    "def to_pdf():\n",
    "    import pdfkit\n",
    "    print('exporting PDF...')\n",
    "    htmls = []\n",
    "    for root, dirs, files in os.walk('.'):\n",
    "        print(root)\n",
    "        print(dirs)\n",
    "        print(files)\n",
    "        htmls += [name for name in files if name.endswith(\".html\")]\n",
    "    pdfkit.from_file(sorted(htmls), author + '.pdf')\n",
    "    print(\"done\")"
   ]
  },
  {
   "cell_type": "code",
   "execution_count": 12,
   "metadata": {},
   "outputs": [],
   "source": [
    "def get_args():\n",
    "    import pdfkit\n",
    "    print('exporting PDF...')\n",
    "    htmls = \"\"\n",
    "    for root, dirs, files in os.walk('.'):\n",
    "        for name in files:\n",
    "            if name.endswith(\".html\"):\n",
    "                htmls += '\"'+name+'\"'+\" \"\n",
    "        print(htmls) \n",
    "    return htmls"
   ]
  },
  {
   "cell_type": "code",
   "execution_count": 7,
   "metadata": {},
   "outputs": [],
   "source": [
    "if __name__ == '__main__':\n",
    "    author = input('Please input author name:(default vczh-nichijou)')\n",
    "    if not author:\n",
    "        author = 'vczh-nichijou'\n",
    "    headers = {\n",
    "        'origin': 'https://zhuanlan.zhihu.com',\n",
    "        'referer': 'https://zhuanlan.zhihu.com/{0}'.format(author),\n",
    "        'User-Agent': 'Mozilla/5.0'\n",
    "    }\n",
    "    get_list()\n",
    "    get_details()\n",
    "    pdfArgs=get_args()\n",
    "    pdfEnd = 'wkhtmltopdf '+pdfArgs+author+\".pdf\"\n",
    "    if(os.system(pdfEnd)==0):\n",
    "        print(\"exporting PDF success\")\n",
    "    else:\n",
    "        print(\"exporting PDF failed\")"
   ]
  }
 ],
 "metadata": {
  "kernelspec": {
   "display_name": "Python 3",
   "language": "python",
   "name": "python3"
  },
  "language_info": {
   "codemirror_mode": {
    "name": "ipython",
    "version": 3
   },
   "file_extension": ".py",
   "mimetype": "text/x-python",
   "name": "python",
   "nbconvert_exporter": "python",
   "pygments_lexer": "ipython3",
   "version": "3.6.4"
  }
 },
 "nbformat": 4,
 "nbformat_minor": 2
}
